{
 "cells": [
  {
   "cell_type": "code",
   "execution_count": 1,
   "id": "89f38ab6-e786-42e8-87dc-a82ef98cb2fa",
   "metadata": {},
   "outputs": [
    {
     "data": {
      "text/plain": [
       "<torch._C.Generator at 0x7f92e28a1c30>"
      ]
     },
     "execution_count": 1,
     "metadata": {},
     "output_type": "execute_result"
    }
   ],
   "source": [
    "import os\n",
    "import random\n",
    "import numpy as np\n",
    "import torch\n",
    "\n",
    "SEED_VALUE = 0\n",
    "random.seed(SEED_VALUE)\n",
    "np.random.seed(SEED_VALUE)\n",
    "torch.manual_seed(SEED_VALUE)"
   ]
  },
  {
   "cell_type": "code",
   "execution_count": 2,
   "id": "62e6d864-1b4a-414a-8d75-3e26bbf3c760",
   "metadata": {},
   "outputs": [
    {
     "name": "stdout",
     "output_type": "stream",
     "text": [
      "datetime :  2408/30/08:2727\n",
      "240830082727\n"
     ]
    }
   ],
   "source": [
    "import datetime\n",
    "def timestamp():\n",
    "    time_cur = datetime.datetime.now()\n",
    "    print(\"datetime : \", time_cur.strftime(\"%y%m/%d/%H:%M%S\"))\n",
    "    stamp = time_cur.strftime(\"%y%m%d%H%M%S\")\n",
    "    return stamp\n",
    "\n",
    "stamp = timestamp()\n",
    "print(stamp)"
   ]
  },
  {
   "cell_type": "code",
   "execution_count": 3,
   "id": "c33ba57e-4260-4a55-88cd-9b6028782808",
   "metadata": {},
   "outputs": [],
   "source": [
    "from matplotlib import pyplot as plt\n",
    "%config InlineBackend.figure_gformat = \"retina\"\n",
    "%matplotlib inline\n",
    "\n",
    "from sklearn.metrics import r2_score, mean_squared_error, mean_absolute_error\n",
    "def plot_scatter_with_error(y, pred_y, pred_std):\n",
    "    plt.errorbar(y, pred_y, yerr= pred_std, fmt='o', markersize=10, ecolor=\"black\", markeredgecolor =\"black\",color=\"b\")\n",
    "    y_max = max(y.max(), (pred_y + pred_std).max())\n",
    "    y_min = min(y.min(), (pred_y - pred_std).min())\n",
    "    plt.plot([y_min - 0.05*(y_max - y_min),y_max + 0.05*(y_max - y_min)],\n",
    "            [y_min - 0.05*(y_max - y_min),y_max + 0.05*(y_max - y_min)], \"k-\")\n",
    "    plt.xlim(y_min - 0.05*(y_max - y_min),y_max + 0.05*(y_max - y_min))\n",
    "    plt.ylim(y_min - 0.05*(y_max - y_min),y_max + 0.05*(y_max - y_min))\n",
    "    plt.xlabel(\"actual y\")\n",
    "    plt.ylabel(\"estimated_y\")\n",
    "    plt.gca().set_aspect(\"equal\", adjustable=\"box\")\n",
    "    plt.show()\n",
    "\n",
    "def draw_scatter(y, y_pred):\n",
    "    plt.rcParams[\"font.size\"] = 18\n",
    "    plt.scatter(y, y_pred, c=\"blue\")\n",
    "    y_max = max(y.max(), y_pred.max())\n",
    "    y_min = min(y.min(), y_pred.min())\n",
    "    plt.plot([y_min - 0.05*(y_max - y_min),y_max + 0.05*(y_max - y_min)],\n",
    "            [y_min - 0.05*(y_max - y_min),y_max + 0.05*(y_max - y_min)], \"k-\")\n",
    "    plt.xlim(y_min - 0.05*(y_max - y_min),y_max + 0.05*(y_max - y_min))\n",
    "    plt.ylim(y_min - 0.05*(y_max - y_min),y_max + 0.05*(y_max - y_min))\n",
    "    plt.xlabel(\"actual y\")\n",
    "    plt.ylabel(\"estimated y\")\n",
    "    plt.gca().set_aspect(\"equal\", adjustable=\"box\")\n",
    "    plt.show()  \n",
    "    \n",
    "def mean_absolute_percentage_error(y, y_pred):\n",
    "    return np.mean(np.abs((y - y_pred)/y_pred))*100\n",
    "\n",
    "def score(y, y_pred):\n",
    "    print(f\"r2:{r2_score(y, y_pred):.3}\")\n",
    "    print(f\"RMSE:{mean_squared_error(y, y_pred, squared=False):.3}\")\n",
    "    print(f\"MAE:{mean_absolute_error(y, y_pred):.3}\")\n",
    "    try:\n",
    "        print(f\"MAPE:{mean_absolute_percentage_error(y, y_pred):.3}\")\n",
    "    except:\n",
    "        pass"
   ]
  },
  {
   "cell_type": "code",
   "execution_count": 4,
   "id": "cf7f28a4-4576-4c5a-ba71-a3ab6ad1930a",
   "metadata": {},
   "outputs": [],
   "source": [
    "import pandas as pd\n",
    "\n",
    "\n",
    "x_train = pd.read_csv(\"data/x_train.csv\", index_col=0)\n",
    "x_test = pd.read_csv(\"data/x_test.csv\", index_col=0)\n",
    "\n",
    "y_train = pd.read_csv(\"data/y_train.csv\", index_col=0)\n",
    "y_test = pd.read_csv(\"data/y_test.csv\", index_col=0)"
   ]
  },
  {
   "cell_type": "code",
   "execution_count": 5,
   "id": "f3ee1ae8-c0b8-4ac4-9ca0-630e365a3d47",
   "metadata": {},
   "outputs": [
    {
     "name": "stdout",
     "output_type": "stream",
     "text": [
      "(200, 55) (200, 55)\n",
      "(200, 1) (200, 1)\n"
     ]
    }
   ],
   "source": [
    "print(x_train.shape, x_test.shape)\n",
    "print(y_train.shape, y_test.shape)"
   ]
  },
  {
   "cell_type": "code",
   "execution_count": 6,
   "id": "ae472f6b-a421-4253-8358-b542d77db96e",
   "metadata": {},
   "outputs": [],
   "source": [
    "x_name = x_train.columns.to_list()\n",
    "x_test = x_test.loc[:,x_name]\n",
    "x_test_name = x_test.index.to_list()"
   ]
  },
  {
   "cell_type": "code",
   "execution_count": 7,
   "id": "73979b90-b13b-45db-8e75-330008a72906",
   "metadata": {},
   "outputs": [],
   "source": [
    "x_train_mean = x_train.mean()\n",
    "x_train_std = x_train.std(ddof=1)\n",
    "autoscaled_x_train = (x_train - x_train_mean)/x_train_std\n",
    "autoscaled_x_test = (x_test - x_train_mean)/x_train_std\n",
    "\n",
    "y_train_mean = y_train.mean()\n",
    "y_train_std = y_train.std(ddof=1)\n",
    "autoscaled_y_train = (y_train - y_train_mean)/y_train_std"
   ]
  },
  {
   "cell_type": "code",
   "execution_count": 8,
   "id": "c80313f5-106b-470c-a69b-85985df55de5",
   "metadata": {},
   "outputs": [],
   "source": [
    "autoscaled_x_train = torch.from_numpy(autoscaled_x_train.values.astype(np.float32))\n",
    "autoscaled_x_test = torch.from_numpy(autoscaled_x_test.values.astype(np.float32))\n",
    "\n",
    "autoscaled_y_train = torch.from_numpy(autoscaled_y_train.values.astype(np.float32)).reshape(-1,)"
   ]
  },
  {
   "cell_type": "code",
   "execution_count": 9,
   "id": "b06db01f-2325-4bdc-908e-d64b68905a4f",
   "metadata": {},
   "outputs": [],
   "source": [
    "import gpytorch\n",
    "from gpytorch.models import ExactGP"
   ]
  },
  {
   "cell_type": "code",
   "execution_count": 10,
   "id": "061ef629-7d26-45bd-aa51-24a36b765433",
   "metadata": {},
   "outputs": [],
   "source": [
    "class ExactGPModel(gpytorch.models.ExactGP):\n",
    "    def __init__(self, train_x, train_y, likelihood):\n",
    "        super(ExactGPModel, self).__init__(train_x, train_y, likelihood)\n",
    "\n",
    "        self.mean_module = gpytorch.means.ConstantMean()\n",
    "        self.covar_module = gpytorch.kernels.ScaleKernel(gpytorch.kernels.RBFKernel())\n",
    "    \n",
    "    def forward(self, x):\n",
    "        mean_x = self.mean_module(x)\n",
    "        covar_x = self.covar_module(x)\n",
    "        return gpytorch.distributions.MultivariateNormal(mean_x, covar_x)\n",
    "\n",
    "likelihood = gpytorch.likelihoods.GaussianLikelihood()\n",
    "model = ExactGPModel(autoscaled_x_train, autoscaled_y_train, likelihood)"
   ]
  },
  {
   "cell_type": "code",
   "execution_count": 11,
   "id": "f7836504",
   "metadata": {},
   "outputs": [
    {
     "name": "stderr",
     "output_type": "stream",
     "text": [
      "100%|██████████████████████████████████████| 1000/1000 [00:03<00:00, 251.76it/s]\n"
     ]
    },
    {
     "data": {
      "image/png": "[encoded data removed]",
      "text/plain": [
       "<Figure size 640x480 with 1 Axes>"
      ]
     },
     "metadata": {},
     "output_type": "display_data"
    }
   ],
   "source": [
    "from tqdm import tqdm\n",
    "\n",
    "\n",
    "model.train()\n",
    "likelihood.train()\n",
    "\n",
    "optimizer = torch.optim.Adam(model.parameters(), lr=0.1) \n",
    "mll = gpytorch.mlls.ExactMarginalLogLikelihood(likelihood, model)\n",
    "\n",
    "training_iter = 1000\n",
    "loss_list = []\n",
    "for i in tqdm(range(training_iter)):\n",
    "\n",
    "    optimizer.zero_grad()\n",
    "    output = model(autoscaled_x_train)\n",
    "    \n",
    "    loss = -mll(output, autoscaled_y_train)\n",
    "    loss.backward()\n",
    "    \n",
    "    optimizer.step()\n",
    "    loss_list.append(loss.detach().numpy())\n",
    "    \n",
    "plt.plot(loss_list)\n",
    "plt.xlabel('step')\n",
    "plt.ylabel('Loss');"
   ]
  },
  {
   "cell_type": "code",
   "execution_count": 12,
   "id": "dcce3363-c05f-4989-a880-432db2589599",
   "metadata": {},
   "outputs": [],
   "source": [
    "model.eval()\n",
    "likelihood.eval()\n",
    "\n",
    "with torch.no_grad():\n",
    "    autoscaled_y_pred = likelihood(model(autoscaled_x_test))"
   ]
  },
  {
   "cell_type": "code",
   "execution_count": 13,
   "id": "c21505cb-9234-4ef5-8a68-3747267afe5b",
   "metadata": {},
   "outputs": [
    {
     "name": "stdout",
     "output_type": "stream",
     "text": [
      "r2:0.737\n",
      "RMSE:1.11\n",
      "MAE:0.853\n"
     ]
    },
    {
     "data": {
      "image/png": "[encoded data removed]",
      "text/plain": [
       "<Figure size 640x480 with 1 Axes>"
      ]
     },
     "metadata": {},
     "output_type": "display_data"
    }
   ],
   "source": [
    "y_pred = autoscaled_y_pred.mean.cpu().numpy() * y_train_std.values + y_train_mean.values\n",
    "y_pred_std = autoscaled_y_pred.stddev.cpu().numpy() * y_train_std.values\n",
    "score(y_test, y_pred)\n",
    "draw_scatter(y_test.values, y_pred)"
   ]
  },
  {
   "cell_type": "code",
   "execution_count": null,
   "id": "7e09677b",
   "metadata": {},
   "outputs": [],
   "source": [
    "def confidence_curve(y_true, y_pred, sigma):\n",
    "    errors = np.abs(y_true - y_pred)\n",
    "    sorted_indices = np.argsort(sigma)\n",
    "    sorted_errors = errors[sorted_indices]\n",
    "    fractions = np.linspace(0, 1, len(y_true)+1) # modified\n",
    "    confidence_errors = [np.mean(sorted_errors[:int(f * len(sorted_errors))]) for f in fractions]\n",
    "    return fractions, confidence_errors[::-1]\n",
    "\n",
    "def oracle_curve(y_true, y_pred):\n",
    "    errors = np.abs(y_true - y_pred)\n",
    "    sorted_errors = np.sort(errors)\n",
    "    fractions = np.linspace(0, 1, len(y_true+1)) # modified\n",
    "    oracle_errors = [np.mean(sorted_errors[:int(f * len(sorted_errors))]) for f in fractions]\n",
    "    return fractions, oracle_errors[::-1]\n",
    "\n",
    "fractions, confidence_errors = confidence_curve(y_test.values.reshape(-1,), y_pred, y_pred_std)\n",
    "_, oracle_errors = oracle_curve(y_test.values.reshape(-1,), y_pred)\n",
    "\n",
    "def calculate_auco(confidence_errors, oracle_errors):\n",
    "    differences = np.abs(np.array(confidence_errors) - np.array(oracle_errors))\n",
    "\n",
    "    return np.mean(differences[:-1])\n",
    "\n",
    "\n",
    "auco = calculate_auco(fractions, confidence_errors, oracle_errors)\n",
    "print(f'Area Under the Confidence-Oracle Curve (AUCO): {auco}')\n",
    "\n",
    "plt.rcParams[\"font.size\"] = 24\n",
    "plt.figure(figsize=(9, 9))\n",
    "plt.plot(fractions, confidence_errors, label='Confidence Curve', marker='o')\n",
    "plt.plot(fractions, oracle_errors, label='Oracle Curve', linestyle='--')\n",
    "plt.ylim(-0.05, 0.9)\n",
    "plt.xlim(-0.05, 1.05)  \n",
    "plt.xlabel('Fraction of removed data', fontsize=36)\n",
    "plt.ylabel('Mean Absolute Error', fontsize=36)\n",
    "plt.legend(loc='lower left')\n",
    "plt.show()"
   ]
  },
  {
   "cell_type": "code",
   "execution_count": 15,
   "id": "34ba93a2",
   "metadata": {},
   "outputs": [],
   "source": [
    "model_info_dict = {}\n",
    "model_info_dict[\"test_index\"] = x_test_name\n",
    "model_info_dict[\"y_pred_mean\"] = y_pred\n",
    "model_info_dict[\"y_pred_std\"] = y_pred_std\n",
    "model_info_dict[\"loss\"] = loss_list"
   ]
  },
  {
   "cell_type": "code",
   "execution_count": 16,
   "id": "0ff86bc3",
   "metadata": {},
   "outputs": [],
   "source": [
    "model_path = 'model'\n",
    "os.makedirs(model_path, exist_ok=True)"
   ]
  },
  {
   "cell_type": "code",
   "execution_count": 17,
   "id": "cd1c5d8c",
   "metadata": {},
   "outputs": [],
   "source": [
    "model.state_dict()\n",
    "torch.save(model.state_dict(), f'{model_path}/model_state_small_{stamp}.pth')"
   ]
  },
  {
   "cell_type": "code",
   "execution_count": 18,
   "id": "d2b12d25-70a4-4716-9a89-2f2e2f0a10bc",
   "metadata": {},
   "outputs": [],
   "source": [
    "def prepare_for_grad(x, delta=1e-3):\n",
    "    \n",
    "    \"\"\"\n",
    "    Args:\n",
    "        x : input(n,)\n",
    "        delta : small amount\n",
    "        \n",
    "    Return:\n",
    "        prepare_for_grad_x : data for calculate grads (2n, n)\n",
    "    \"\"\"\n",
    "    \n",
    "    x_for_grad_list = []\n",
    "    \n",
    "    for i in range(x.shape[0]):\n",
    "        tmp = torch.vstack((x, x))\n",
    "        tmp[0,i] += delta\n",
    "        tmp[1,i] -= delta\n",
    "        x_for_grad_list.append(tmp)\n",
    "        \n",
    "    prepare_for_grad_x = torch.cat(x_for_grad_list, dim=0)\n",
    "        \n",
    "    assert x.shape[0]*2 == prepare_for_grad_x.shape[0], f'{x.shape[0]*2}→{prepare_for_grad_x.shape[0]}'\n",
    "    assert x.shape[0] == prepare_for_grad_x.shape[1], f'{x.shape[0]}→{prepare_for_grad_x.shape[1]}'\n",
    "    \n",
    "    return prepare_for_grad_x"
   ]
  },
  {
   "cell_type": "code",
   "execution_count": 19,
   "id": "a5629ead-6764-4320-b3c5-2b0d0c74c604",
   "metadata": {},
   "outputs": [],
   "source": [
    "def calc_grad(y, x):\n",
    "    \n",
    "    \"\"\"\n",
    "    Args:\n",
    "        y : target variables (2n,)\n",
    "        x : input varibales (2n, n)\n",
    "\n",
    "    Return:\n",
    "        grad : (n)\n",
    "    \"\"\"\n",
    "    grad_list = []\n",
    "    \n",
    "    for i in range(x.shape[1]):\n",
    "        grad = (y[2*i] - y[2*i+1])/(x[2*i, i] - x[2*i+1, i])\n",
    "        grad_list.append(grad)\n",
    "        \n",
    "    assert x.shape[1] == torch.tensor(grad_list).shape[0], f'{x.shape[1]}→{torch.tensor(grad_list).shape[0]}'\n",
    "        \n",
    "    return torch.tensor(grad_list)"
   ]
  },
  {
   "cell_type": "code",
   "execution_count": 20,
   "id": "fabbefff-b067-401a-ba13-804a3ba6070f",
   "metadata": {},
   "outputs": [],
   "source": [
    "def IG_torch(model, x, N=100):\n",
    "    \n",
    "    \"\"\"\n",
    "    Args:\n",
    "        model : trained gaussian process model\n",
    "        x : input varibales (1, n)\n",
    "        N : the number of steps for calculate integrated gradients\n",
    "\n",
    "    Return:\n",
    "        IG : integrated gradients for interpret predicted mean by using automatic differentiation\n",
    "    \"\"\"\n",
    "    \n",
    "    IG_tmp = []\n",
    "    \n",
    "    for n in range(N+1): \n",
    "        x_n = x * n/N\n",
    "        x_n = x_n.detach().clone().requires_grad_(True)  \n",
    "        f_preds = model(x_n.reshape(1,-1))\n",
    "        f_preds_mean = f_preds.mean\n",
    "        f_preds_mean.backward()\n",
    "        IG_tmp.append(x_n.grad.clone())\n",
    "    \n",
    "    IG_tmp = torch.stack(IG_tmp, dim=0)\n",
    "    IG = torch.mean(IG_tmp, dim=0).detach()\n",
    "    \n",
    "    return IG"
   ]
  },
  {
   "cell_type": "code",
   "execution_count": 21,
   "id": "8732b0f2-972c-4c3d-b53b-3ed9551e989d",
   "metadata": {},
   "outputs": [],
   "source": [
    "def GP_IG(model, x, N=100, sampling=100):\n",
    "    \n",
    "    \"\"\"\n",
    "    Args:\n",
    "        model : trained gaussian process model\n",
    "        x : input varibales (n)\n",
    "        N : the number of steps for calculate integrated gradients\n",
    "        samping : the number of functions sampled from model\n",
    "\n",
    "    Return:\n",
    "        all_IG : all integrated gradients for interpret predicted mean and std. by using numerical differentiation\n",
    "    \"\"\"\n",
    "    \n",
    "    for s in range(sampling):\n",
    "        \n",
    "        # create data necessary for path integration\n",
    "        for n in range(N+1):\n",
    "            x_n = x * n/N\n",
    "            x_n_for_grad = prepare_for_grad(x_n)\n",
    "            \n",
    "            if n == 0:\n",
    "                all_x_n_for_grad = x_n_for_grad.detach().clone()\n",
    "            else:\n",
    "                all_x_n_for_grad = torch.vstack((all_x_n_for_grad, x_n_for_grad))\n",
    "                \n",
    "        assert all_x_n_for_grad.cpu().numpy().shape == (x.shape[0]*2*(N+1) , x.shape[0]), f\"{all_x_n_for_grad.numpy().shape}→{(x.shape[0]*2*(N+1) , x.shape[0])}\"\n",
    "        \n",
    "        # sampling latent function\n",
    "        all_f_sampling_for_grad = model(all_x_n_for_grad).sample()\n",
    "        \n",
    "        # calculate gradients at each path\n",
    "        for n2 in range(N+1):\n",
    "            \n",
    "            f_sampling_for_grad = all_f_sampling_for_grad[n2*x.shape[0]*2:((n2+1)*x.shape[0]*2)]\n",
    "            x_n_for_grad = all_x_n_for_grad[n2*x.shape[0]*2:((n2+1)*x.shape[0]*2),:]\n",
    "\n",
    "            # calculate\n",
    "            grad = calc_grad(f_sampling_for_grad, x_n_for_grad).detach()\n",
    "            \n",
    "            if n2 == 0:\n",
    "                all_grad = grad.detach().clone()\n",
    "            else:\n",
    "                all_grad = torch.vstack((all_grad, grad))\n",
    "\n",
    "        IG = all_grad.mean(axis=0).detach()\n",
    "        \n",
    "        if s == 0:\n",
    "            all_IG = IG.detach().clone()\n",
    "        else:\n",
    "            all_IG = torch.vstack((all_IG, IG))\n",
    "        \n",
    "    assert all_IG.cpu().numpy().shape == (sampling, x.shape[0]), f\"{all_IG.numpy().shape }→{(sampling, x.shape[0])}\"\n",
    "    \n",
    "    return all_IG"
   ]
  },
  {
   "cell_type": "code",
   "execution_count": 22,
   "id": "becfd17d",
   "metadata": {},
   "outputs": [],
   "source": [
    "results_path = f'results/results_{stamp}'\n",
    "os.makedirs(results_path, exist_ok=True)"
   ]
  },
  {
   "cell_type": "code",
   "execution_count": 23,
   "id": "93d559bc",
   "metadata": {},
   "outputs": [
    {
     "data": {
      "text/plain": [
       "['results/results_240830082727/model_info_240830082727.pkl']"
      ]
     },
     "execution_count": 23,
     "metadata": {},
     "output_type": "execute_result"
    }
   ],
   "source": [
    "import joblib\n",
    "joblib.dump(model_info_dict, f'{results_path}/model_info_{stamp}.pkl')"
   ]
  },
  {
   "cell_type": "code",
   "execution_count": 24,
   "id": "02ea115b",
   "metadata": {},
   "outputs": [
    {
     "name": "stdout",
     "output_type": "stream",
     "text": [
      "Last updated: Fri Aug 30 2024\n",
      "\n",
      "Python implementation: CPython\n",
      "Python version       : 3.8.8\n",
      "IPython version      : 7.34.0\n",
      "\n",
      "torch     : 1.13.0\n",
      "numpy     : 1.24.4\n",
      "gpytorch  : 1.11\n",
      "pandas    : 1.5.1\n",
      "joblib    : 1.3.2\n",
      "matplotlib: 3.6.0\n",
      "\n",
      "Watermark: 2.4.3\n",
      "\n"
     ]
    }
   ],
   "source": [
    "%load_ext watermark\n",
    "%watermark -n -u -v -iv -w"
   ]
  },
  {
   "cell_type": "code",
   "execution_count": 25,
   "id": "b44d975e-05a2-4741-8ee9-90b72573d6a8",
   "metadata": {},
   "outputs": [
    {
     "name": "stderr",
     "output_type": "stream",
     "text": [
      "100%|████████████████████████████████████| 100/100 [37:44:14<00:00, 1358.55s/it]\n"
     ]
    }
   ],
   "source": [
    "for i in tqdm(range(100)):\n",
    "    \n",
    "    save_dic = {}\n",
    "    \n",
    "    autoscaled_x_test_n = autoscaled_x_test[i,:]\n",
    "    \n",
    "    f_preds = model(autoscaled_x_test_n.reshape(1,-1))\n",
    "    autoscaled_f_pred_mean = f_preds.mean\n",
    "    autoscaled_f_pred_var = f_preds.variance\n",
    "    f_pred_mean = autoscaled_f_pred_mean.cpu().detach().numpy() * y_train_std + y_train_mean\n",
    "    f_pred_var = autoscaled_f_pred_var.cpu().detach().numpy() * y_train_std * y_train_std \n",
    "    \n",
    "    \n",
    "    GP_IG_results = GP_IG(model, autoscaled_x_test_n, sampling=1000)\n",
    "    IG_results = IG_torch(model, autoscaled_x_test_n)\n",
    "    \n",
    "    save_dic[\"test_index\"] = x_test_name[i]\n",
    "    save_dic[\"x\"] = autoscaled_x_test_n\n",
    "    save_dic[\"x_name\"] = x_name\n",
    "    \n",
    "    save_dic[\"y\"] = y_test.iloc[i]\n",
    "    save_dic[\"y_train_mean\"] = y_train_mean\n",
    "    save_dic[\"y_train_std\"] = y_train_std\n",
    "    save_dic[\"f_pred_mean\"] = f_pred_mean\n",
    "    save_dic[\"f_pred_var\"] = f_pred_var\n",
    "    \n",
    "    save_dic[\"GP_IG\"] = GP_IG_results\n",
    "    save_dic[\"IG\"] = IG_results\n",
    "    \n",
    "    #import joblib\n",
    "    joblib.dump(save_dic, f'{results_path}/interpret_results_{x_test_name[i]}_{stamp}.pkl')"
   ]
  }
 ],
 "metadata": {
  "kernelspec": {
   "display_name": "Python 3 (ipykernel)",
   "language": "python",
   "name": "python3"
  },
  "language_info": {
   "codemirror_mode": {
    "name": "ipython",
    "version": 3
   },
   "file_extension": ".py",
   "mimetype": "text/x-python",
   "name": "python",
   "nbconvert_exporter": "python",
   "pygments_lexer": "ipython3",
   "version": "3.8.8"
  }
 },
 "nbformat": 4,
 "nbformat_minor": 5
}
